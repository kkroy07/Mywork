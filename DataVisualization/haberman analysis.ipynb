{
 "cells": [
  {
   "cell_type": "code",
   "execution_count": 1,
   "id": "e8f9700b",
   "metadata": {},
   "outputs": [
    {
     "data": {
      "text/html": [
       "<div>\n",
       "<style scoped>\n",
       "    .dataframe tbody tr th:only-of-type {\n",
       "        vertical-align: middle;\n",
       "    }\n",
       "\n",
       "    .dataframe tbody tr th {\n",
       "        vertical-align: top;\n",
       "    }\n",
       "\n",
       "    .dataframe thead th {\n",
       "        text-align: right;\n",
       "    }\n",
       "</style>\n",
       "<table border=\"1\" class=\"dataframe\">\n",
       "  <thead>\n",
       "    <tr style=\"text-align: right;\">\n",
       "      <th></th>\n",
       "      <th>age</th>\n",
       "      <th>year</th>\n",
       "      <th>nodes</th>\n",
       "      <th>status</th>\n",
       "    </tr>\n",
       "  </thead>\n",
       "  <tbody>\n",
       "    <tr>\n",
       "      <th>0</th>\n",
       "      <td>30</td>\n",
       "      <td>64</td>\n",
       "      <td>1</td>\n",
       "      <td>1</td>\n",
       "    </tr>\n",
       "    <tr>\n",
       "      <th>1</th>\n",
       "      <td>30</td>\n",
       "      <td>62</td>\n",
       "      <td>3</td>\n",
       "      <td>1</td>\n",
       "    </tr>\n",
       "    <tr>\n",
       "      <th>2</th>\n",
       "      <td>30</td>\n",
       "      <td>65</td>\n",
       "      <td>0</td>\n",
       "      <td>1</td>\n",
       "    </tr>\n",
       "    <tr>\n",
       "      <th>3</th>\n",
       "      <td>31</td>\n",
       "      <td>59</td>\n",
       "      <td>2</td>\n",
       "      <td>1</td>\n",
       "    </tr>\n",
       "    <tr>\n",
       "      <th>4</th>\n",
       "      <td>31</td>\n",
       "      <td>65</td>\n",
       "      <td>4</td>\n",
       "      <td>1</td>\n",
       "    </tr>\n",
       "  </tbody>\n",
       "</table>\n",
       "</div>"
      ],
      "text/plain": [
       "   age  year  nodes  status\n",
       "0   30    64      1       1\n",
       "1   30    62      3       1\n",
       "2   30    65      0       1\n",
       "3   31    59      2       1\n",
       "4   31    65      4       1"
      ]
     },
     "execution_count": 1,
     "metadata": {},
     "output_type": "execute_result"
    }
   ],
   "source": [
    "import pandas as pd\n",
    "import seaborn as sns\n",
    "import matplotlib.pyplot as plt\n",
    "import numpy as np\n",
    "\n",
    "hman=pd.read_csv('haberman.csv',names=['age','year','nodes','status'])\n",
    "hman.head()"
   ]
  },
  {
   "cell_type": "code",
   "execution_count": 2,
   "id": "22dd6c63",
   "metadata": {},
   "outputs": [
    {
     "name": "stdout",
     "output_type": "stream",
     "text": [
      "Dataset contains 306  rows and  4  cols\n"
     ]
    }
   ],
   "source": [
    "rows,cols=hman.shape\n",
    "print(\"Dataset contains\",rows,\" rows and \",cols,\" cols\")"
   ]
  },
  {
   "cell_type": "code",
   "execution_count": 3,
   "id": "9c33328a",
   "metadata": {},
   "outputs": [
    {
     "data": {
      "text/plain": [
       "1    225\n",
       "2     81\n",
       "Name: status, dtype: int64"
      ]
     },
     "execution_count": 3,
     "metadata": {},
     "output_type": "execute_result"
    }
   ],
   "source": [
    "hman['status'].value_counts()"
   ]
  },
  {
   "cell_type": "code",
   "execution_count": 4,
   "id": "e66fd59f",
   "metadata": {},
   "outputs": [
    {
     "data": {
      "text/plain": [
       "CategoricalDtype(categories=[1, 2], ordered=False)"
      ]
     },
     "execution_count": 4,
     "metadata": {},
     "output_type": "execute_result"
    }
   ],
   "source": [
    "hman['status']=hman['status'].astype('category')\n",
    "hman['status'].dtype"
   ]
  },
  {
   "cell_type": "code",
   "execution_count": 5,
   "id": "ab0f3677",
   "metadata": {},
   "outputs": [
    {
     "data": {
      "text/plain": [
       "1    225\n",
       "2     81\n",
       "Name: status, dtype: int64"
      ]
     },
     "execution_count": 5,
     "metadata": {},
     "output_type": "execute_result"
    }
   ],
   "source": [
    "hman['status'].value_counts()"
   ]
  },
  {
   "cell_type": "code",
   "execution_count": 6,
   "id": "1acd3624",
   "metadata": {},
   "outputs": [],
   "source": [
    "#The Haberman data set contains two category\n",
    "#1 means patients survived for more than 5 years let's say it survived\n",
    "#2 means patiens not survived more than 5 years let's say it died"
   ]
  },
  {
   "cell_type": "code",
   "execution_count": 7,
   "id": "66ddee7c",
   "metadata": {},
   "outputs": [
    {
     "name": "stdout",
     "output_type": "stream",
     "text": [
      "1    225\n",
      "2     81\n",
      "Name: status, dtype: int64\n"
     ]
    },
    {
     "data": {
      "image/png": "[encoded data removed]",
      "text/plain": [
       "<Figure size 432x288 with 1 Axes>"
      ]
     },
     "metadata": {},
     "output_type": "display_data"
    }
   ],
   "source": [
    "#Let's visualize in pie chart\n",
    "slices=hman['status'].value_counts()\n",
    "print(slices)\n",
    "plt.pie(x=slices,labels=[\"Survived\",\"Died\"], autopct=\"%1.0f%%\")\n",
    "plt.title(\"Percentage of patients survived and died\")\n",
    "plt.show()"
   ]
  },
  {
   "cell_type": "code",
   "execution_count": 8,
   "id": "531be8de",
   "metadata": {},
   "outputs": [],
   "source": [
    "#From the data set we observed that 225 out of 305 that is 74% would be survived\n",
    "# and 26% 81 out of 305 would die"
   ]
  },
  {
   "cell_type": "code",
   "execution_count": 9,
   "id": "5d4a24ee",
   "metadata": {},
   "outputs": [],
   "source": [
    "#Univariate Analysis\n",
    "#Let's answer this question\n",
    "#What is the common age range of patients who underwent surgery?\n",
    "# For that we need to do analyze age with count of patients which is histogram analysis or pdf"
   ]
  },
  {
   "cell_type": "code",
   "execution_count": 10,
   "id": "6a38f8a3",
   "metadata": {},
   "outputs": [
    {
     "data": {
      "text/plain": [
       "count    306.000000\n",
       "mean      52.457516\n",
       "std       10.803452\n",
       "min       30.000000\n",
       "25%       44.000000\n",
       "50%       52.000000\n",
       "75%       60.750000\n",
       "max       83.000000\n",
       "Name: age, dtype: float64"
      ]
     },
     "execution_count": 10,
     "metadata": {},
     "output_type": "execute_result"
    }
   ],
   "source": [
    "#Featuring Age\n",
    "hman['age'].describe()"
   ]
  },
  {
   "cell_type": "code",
   "execution_count": 11,
   "id": "4f140bc3",
   "metadata": {},
   "outputs": [
    {
     "name": "stdout",
     "output_type": "stream",
     "text": [
      "Patient with lowest age: 30\n",
      "Patient with highest age: 83\n",
      "Mean age of Patients: 52\n",
      "Median age of Patients: 52\n"
     ]
    }
   ],
   "source": [
    "print(\"Patient with lowest age:\", hman[\"age\"].min())\n",
    "print(\"Patient with highest age:\", hman[\"age\"].max())\n",
    "print(\"Mean age of Patients:\", round(hman[\"age\"].mean()))\n",
    "print(\"Median age of Patients:\", round(hman[\"age\"].median()))"
   ]
  },
  {
   "cell_type": "code",
   "execution_count": 12,
   "id": "331e3df2",
   "metadata": {},
   "outputs": [
    {
     "data": {
      "image/png": "[encoded data removed]",
      "text/plain": [
       "<Figure size 720x432 with 1 Axes>"
      ]
     },
     "metadata": {
      "needs_background": "light"
     },
     "output_type": "display_data"
    }
   ],
   "source": [
    "#Here we observed patients are within age range of 30 and 83(80 in general)\n",
    "# we can take 80-30=50 50/5=10-1=9 bins to observe age\n",
    "plt.figure(figsize=(10,6))\n",
    "sns.histplot(x=hman['age'],label=\"age\",bins=9,kde=True)\n",
    "plt.xlabel(\"Patients age\")\n",
    "plt.ylabel(\"Count of patients\")\n",
    "plt.xticks(ticks=range(25,85,5))\n",
    "plt.yticks(ticks=range(0,90,10))\n",
    "plt.legend()\n",
    "plt.savefig('patients histogram distribution.png')\n",
    "plt.show()\n"
   ]
  },
  {
   "cell_type": "code",
   "execution_count": 13,
   "id": "26a287b2",
   "metadata": {},
   "outputs": [],
   "source": [
    "#What is the common age range of patients who underwent surgery?\n",
    "#Common age range of patients who underwent surgery is between 40 to 65. So Breast cancer is more likely \n",
    "#in the old aged woman"
   ]
  },
  {
   "cell_type": "code",
   "execution_count": 14,
   "id": "c0c4b089",
   "metadata": {},
   "outputs": [
    {
     "name": "stdout",
     "output_type": "stream",
     "text": [
      "[0.00887902 0.02053274 0.0299667  0.03329634 0.03107658 0.02497225\n",
      " 0.01387347 0.00610433 0.00110988]\n",
      "[30.         35.88888889 41.77777778 47.66666667 53.55555556 59.44444444\n",
      " 65.33333333 71.22222222 77.11111111 83.        ]\n",
      "[35.88888889 41.77777778 47.66666667 53.55555556 59.44444444 65.33333333\n",
      " 71.22222222 77.11111111 83.        ]\n",
      "Width of the bins 5.888888888888893\n"
     ]
    }
   ],
   "source": [
    "#Pdf and cdf\n",
    "counts,bin_edges=np.histogram(hman['age'],bins=9,density=True)\n",
    "print(counts)\n",
    "print(bin_edges)\n",
    "print(bin_edges[1:])\n",
    "print(\"Width of the bins\",bin_edges[2]-bin_edges[1])"
   ]
  },
  {
   "cell_type": "code",
   "execution_count": 15,
   "id": "d032a48d",
   "metadata": {},
   "outputs": [
    {
     "data": {
      "image/png": "[encoded data removed]",
      "text/plain": [
       "<Figure size 432x288 with 1 Axes>"
      ]
     },
     "metadata": {
      "needs_background": "light"
     },
     "output_type": "display_data"
    }
   ],
   "source": [
    "\n",
    "pdf = counts / sum(counts)\n",
    "cdf = np.cumsum(pdf)\n",
    "\n",
    "plt.title(\"PDF and CDF of `age` feature\")\n",
    "plt.plot(bin_edges[1:], pdf)\n",
    "plt.plot(bin_edges[1:], cdf)\n",
    "plt.xticks(ticks=range(30, 90, 5))\n",
    "plt.yticks(ticks=np.arange(0.0, 1.1, 0.1))\n",
    "\n",
    "nth_per = np.percentile(hman[\"age\"], 90)\n",
    "plt.axvline(nth_per, linestyle=\"--\", color=\"g\", label=\"90th percentile\")\n",
    "plt.axhline(0.9, linestyle=\"--\", color=\"g\")\n",
    "plt.legend(loc=\"center right\")\n",
    "\n",
    "plt.savefig(\"03. PDF and CDF of `age` feature.png\")\n",
    "plt.show()\n"
   ]
  },
  {
   "cell_type": "code",
   "execution_count": 16,
   "id": "873bec1c",
   "metadata": {},
   "outputs": [],
   "source": [
    "#cdf says 90% of the patients who underwent surgery were below 67 years (shown in green lines)\n",
    "#pdf says 10% of the patients who underwent surgery were of the age 67"
   ]
  },
  {
   "cell_type": "code",
   "execution_count": 17,
   "id": "32e3e45f",
   "metadata": {},
   "outputs": [
    {
     "name": "stdout",
     "output_type": "stream",
     "text": [
      "<class 'pandas.core.series.Series'>\n",
      "RangeIndex: 306 entries, 0 to 305\n",
      "Series name: nodes\n",
      "Non-Null Count  Dtype\n",
      "--------------  -----\n",
      "306 non-null    int64\n",
      "dtypes: int64(1)\n",
      "memory usage: 2.5 KB\n"
     ]
    }
   ],
   "source": [
    "hman['nodes'].info()"
   ]
  },
  {
   "cell_type": "code",
   "execution_count": 18,
   "id": "8be6e654",
   "metadata": {},
   "outputs": [
    {
     "data": {
      "text/plain": [
       "count    306.000000\n",
       "mean       4.026144\n",
       "std        7.189654\n",
       "min        0.000000\n",
       "25%        0.000000\n",
       "50%        1.000000\n",
       "75%        4.000000\n",
       "max       52.000000\n",
       "Name: nodes, dtype: float64"
      ]
     },
     "execution_count": 18,
     "metadata": {},
     "output_type": "execute_result"
    }
   ],
   "source": [
    "hman['nodes'].describe()"
   ]
  },
  {
   "cell_type": "code",
   "execution_count": 19,
   "id": "d4e88342",
   "metadata": {},
   "outputs": [
    {
     "name": "stdout",
     "output_type": "stream",
     "text": [
      "<class 'pandas.core.series.Series'>\n",
      "RangeIndex: 306 entries, 0 to 305\n",
      "Series name: nodes\n",
      "Non-Null Count  Dtype\n",
      "--------------  -----\n",
      "306 non-null    int64\n",
      "dtypes: int64(1)\n",
      "memory usage: 2.5 KB\n"
     ]
    }
   ],
   "source": [
    "hman['nodes'].info()"
   ]
  },
  {
   "cell_type": "code",
   "execution_count": 20,
   "id": "571b1f58",
   "metadata": {},
   "outputs": [],
   "source": [
    "#nodes value 0 represents no axillary nodes were affected by cancer cells.\n",
    "#nodes value greater than 0 represents total number axillary nodes affected by cancer cells."
   ]
  },
  {
   "cell_type": "code",
   "execution_count": 21,
   "id": "e895e4eb",
   "metadata": {},
   "outputs": [
    {
     "name": "stdout",
     "output_type": "stream",
     "text": [
      "Lowest number affected nodes: 1\n",
      "Highest number of affected nodes: 52\n",
      "Average number of affected nodes: 7\n",
      "Median number of affected nodes: 4\n"
     ]
    }
   ],
   "source": [
    "fltr=hman['nodes'] > 0\n",
    "\n",
    "aff_nodes=hman.loc[fltr,'nodes']\n",
    "\n",
    "print(\"Lowest number affected nodes:\", aff_nodes.min())\n",
    "print(\"Highest number of affected nodes:\", aff_nodes.max())\n",
    "print(\"Average number of affected nodes:\", round(aff_nodes.mean()))\n",
    "print(\"Median number of affected nodes:\", round(aff_nodes.median()))"
   ]
  },
  {
   "cell_type": "code",
   "execution_count": 22,
   "id": "ffc0d9c9",
   "metadata": {},
   "outputs": [
    {
     "data": {
      "text/plain": [
       "True     170\n",
       "False    136\n",
       "Name: nodes, dtype: int64"
      ]
     },
     "execution_count": 22,
     "metadata": {},
     "output_type": "execute_result"
    }
   ],
   "source": [
    "fltr.value_counts()"
   ]
  },
  {
   "cell_type": "code",
   "execution_count": 23,
   "id": "c9ee470b",
   "metadata": {},
   "outputs": [
    {
     "data": {
      "image/png": "[encoded data removed]",
      "text/plain": [
       "<Figure size 432x288 with 1 Axes>"
      ]
     },
     "metadata": {},
     "output_type": "display_data"
    }
   ],
   "source": [
    "plt.pie(x=fltr.value_counts(),labels=[\"Yes\",\"No\"],autopct=\"%1.0f%%\")\n",
    "plt.title(\"Auxiliary Nodes Pie chart\")\n",
    "plt.show()"
   ]
  },
  {
   "cell_type": "code",
   "execution_count": 24,
   "id": "01c87cee",
   "metadata": {},
   "outputs": [],
   "source": [
    "#Here Yes means Patients have auxiliary nodes more than 0\n",
    "#No means Auxiliary nodes as 0"
   ]
  },
  {
   "cell_type": "code",
   "execution_count": 25,
   "id": "9c7a080d",
   "metadata": {},
   "outputs": [
    {
     "data": {
      "image/png": "[encoded data removed]",
      "text/plain": [
       "<Figure size 1080x432 with 1 Axes>"
      ]
     },
     "metadata": {
      "needs_background": "light"
     },
     "output_type": "display_data"
    }
   ],
   "source": [
    "plt.figure(figsize=(15,6))\n",
    "sns.histplot(x=aff_nodes,label=\"nodes\",kde=True,bins=12)\n",
    "plt.xlabel(\"Count of nodes\")\n",
    "plt.ylabel(\"Count of patients\")\n",
    "plt.xticks(ticks=range(0,55,5))\n",
    "plt.yticks(ticks=range(0,101,10))\n",
    "plt.title(\"Auxiliary node\")\n",
    "plt.show()"
   ]
  },
  {
   "cell_type": "code",
   "execution_count": 26,
   "id": "fbac3de8",
   "metadata": {},
   "outputs": [],
   "source": [
    "# Distribution of affected nodes feature is extremely right-skewed.\n",
    "# Most of the patients have less than five nodes infected by cancer."
   ]
  },
  {
   "cell_type": "code",
   "execution_count": 27,
   "id": "9606a832",
   "metadata": {},
   "outputs": [
    {
     "data": {
      "image/png": "[encoded data removed]",
      "text/plain": [
       "<Figure size 720x360 with 1 Axes>"
      ]
     },
     "metadata": {
      "needs_background": "light"
     },
     "output_type": "display_data"
    }
   ],
   "source": [
    "fltr = hman[\"nodes\"] > 0\n",
    "nodes = hman.loc[fltr, \"nodes\"]\n",
    "\n",
    "counts, bin_edges = np.histogram(nodes, bins=12, density=True)\n",
    "pdf = counts / sum(counts)\n",
    "cdf = np.cumsum(pdf)\n",
    "\n",
    "plt.figure(figsize=(10, 5))\n",
    "\n",
    "plt.plot(bin_edges[1:], pdf)\n",
    "plt.plot(bin_edges[1:], cdf)\n",
    "plt.title(\"PDF and CDF of `nodes` feature\")\n",
    "plt.xticks(ticks=range(0, 55, 5))\n",
    "plt.yticks(ticks=np.arange(0.0, 1.1, 0.1))\n",
    "nth_per = np.percentile(nodes, 90)\n",
    "plt.axvline(nth_per, linestyle=\"--\", color=\"g\", label=\"90th percentile\")\n",
    "plt.axhline(0.9,linestyle=\"--\", color=\"g\")\n",
    "plt.legend(loc=\"center right\")\n",
    "\n",
    "plt.savefig(\"08. PDF and CDF of `nodes` feature.png\")\n",
    "plt.show()"
   ]
  },
  {
   "cell_type": "code",
   "execution_count": 28,
   "id": "46bd5f13",
   "metadata": {},
   "outputs": [],
   "source": [
    "#90% of the patients who underwent surgery had less than 19 affected nodes (shown in green lines)."
   ]
  },
  {
   "cell_type": "code",
   "execution_count": 29,
   "id": "2c376c61",
   "metadata": {},
   "outputs": [
    {
     "data": {
      "text/plain": [
       "[]"
      ]
     },
     "execution_count": 29,
     "metadata": {},
     "output_type": "execute_result"
    },
    {
     "data": {
      "image/png": "[encoded data removed]",
      "text/plain": [
       "<Figure size 936x432 with 1 Axes>"
      ]
     },
     "metadata": {
      "needs_background": "light"
     },
     "output_type": "display_data"
    }
   ],
   "source": [
    "#Year data analysis\n",
    "plt.figure(figsize=(13, 6))  # Figure size: width, height\n",
    "\n",
    "sns.countplot(x=\"year\", data=hman, label=\"Number Of Surgeries\", color=\"orange\", alpha=0.5)\n",
    "plt.xlabel(\"Years b/w 1958 and 1969\")\n",
    "plt.ylabel(\"Patient count\")\n",
    "plt.title(\"Number of Surgeries b/w 1958 to 1969\")\n",
    "plt.legend()\n",
    "\n",
    "plt.savefig(\"09. Number of Surgeries between 1958 to 1969.png\")\n",
    "plt.plot()"
   ]
  },
  {
   "cell_type": "code",
   "execution_count": 75,
   "id": "16f56712",
   "metadata": {},
   "outputs": [],
   "source": [
    "#Over the span of 10 years are females willing to undergo surgery? Is there any early awareness?\n",
    "#Over the decade number of surgeries performed are consistent except last two years\n",
    "#Drastic decrease in the number of surgeries from 1968 may indicate early awareness. No sufficient data to confirm this"
   ]
  },
  {
   "cell_type": "code",
   "execution_count": null,
   "id": "421488f4",
   "metadata": {},
   "outputs": [],
   "source": []
  }
 ],
 "metadata": {
  "kernelspec": {
   "display_name": "Python 3 (ipykernel)",
   "language": "python",
   "name": "python3"
  },
  "language_info": {
   "codemirror_mode": {
    "name": "ipython",
    "version": 3
   },
   "file_extension": ".py",
   "mimetype": "text/x-python",
   "name": "python",
   "nbconvert_exporter": "python",
   "pygments_lexer": "ipython3",
   "version": "3.8.10"
  }
 },
 "nbformat": 4,
 "nbformat_minor": 5
}
